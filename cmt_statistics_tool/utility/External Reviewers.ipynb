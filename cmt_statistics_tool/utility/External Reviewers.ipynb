{
 "cells": [
  {
   "cell_type": "code",
   "execution_count": null,
   "id": "71799d23-57cd-4dc5-b5db-15d97bd4348c",
   "metadata": {},
   "outputs": [],
   "source": [
    "%load_ext lab_black\n",
    "from pandas import read_excel\n",
    "from sqlalchemy.future import select\n",
    "\n",
    "from cmt_statistics_tool.insert.people import agg_name\n",
    "from cmt_statistics_tool.statistics import get_data\n",
    "from cmt_statistics_tool.tables import (\n",
    "    People,\n",
    "    RevisionPeople,\n",
    "    SubmissionPeople,\n",
    "    SubmissionReview,\n",
    ")\n",
    "from cmt_statistics_tool.tables.people import PeoplePaperRelation as ppr"
   ]
  },
  {
   "cell_type": "code",
   "execution_count": null,
   "id": "03fafa96-24b6-4ee4-8060-1575fcb56c5d",
   "metadata": {},
   "outputs": [],
   "source": [
    "\n",
    "all_reviewers = set(r[0] for r in await get_data(statement))statement = (\n",
    "    select(People.name.label(\"name\"))\n",
    "    .join(\n",
    "        select(\n",
    "            (\n",
    "                select(SubmissionPeople.people_id)\n",
    "                .where(\n",
    "                    SubmissionPeople.relation_type.in_(\n",
    "                        [ppr.REVIEWER, ppr.METAREVIEWER, ppr.SENIORMETAREVIEWER]\n",
    "                    )\n",
    "                )\n",
    "                .union_all(\n",
    "                    select(RevisionPeople.people_id).where(\n",
    "                        RevisionPeople.relation_type.in_(\n",
    "                            [ppr.REVIEWER, ppr.METAREVIEWER, ppr.SENIORMETAREVIEWER]\n",
    "                        )\n",
    "                    )\n",
    "                )\n",
    "                .subquery()\n",
    "            ).c.people_id\n",
    "        )\n",
    "        .distinct()\n",
    "        .subquery()\n",
    "    )\n",
    "    .union_all(\n",
    "        select(SubmissionReview.external_reviewer.label(\"name\"))\n",
    "        .where(\n",
    "            SubmissionReview.external_reviewer != \"\",\n",
    "            SubmissionReview.external_reviewer != None,\n",
    "        )\n",
    "        .distinct()\n",
    "    )\n",
    ")\n",
    "all_reviewers = set(r[0] for r in await get_data(statement))"
   ]
  },
  {
   "cell_type": "code",
   "execution_count": null,
   "id": "e17ccde2-66c6-4df7-a62d-790e79dd9011",
   "metadata": {},
   "outputs": [],
   "source": [
    "df = read_excel(\"data/Reviewer Management _ CMT.xlsx\")[\n",
    "    [\"First Name\", \"Middle Initial (optional)\", \"Last Name\"]\n",
    "].fillna(\"\")"
   ]
  },
  {
   "cell_type": "code",
   "execution_count": null,
   "id": "81d4fa02-5252-4e28-87fd-47a3c40232f7",
   "metadata": {},
   "outputs": [],
   "source": [
    "reviewer_board = set(\n",
    "    df.agg(\n",
    "        agg_name,\n",
    "        axis=1,\n",
    "    )\n",
    ")\n",
    "reviewer_board |= set()  # add the board names here\n",
    "reviewer_board -= set()  # you may need to subtract some names\n",
    "\n",
    "sorted(reviewer_board - all_reviewers)  # this should be the empty set"
   ]
  },
  {
   "cell_type": "code",
   "execution_count": null,
   "id": "0bc04da6-7f75-455d-953a-bcf7b97c987f",
   "metadata": {},
   "outputs": [],
   "source": [
    "additional_reviewers = (\n",
    "    {\" \".join(r.strip().split()) for r in all_reviewers - reviewer_board}\n",
    "    - reviewer_board\n",
    "    - {\"\", \"-\", \"N.A.\", \"Not applicable\"}\n",
    ")\n",
    "print(\"\\n\".join(sorted(additional_reviewers)))"
   ]
  },
  {
   "cell_type": "code",
   "execution_count": null,
   "id": "2091aad3-afb1-4727-853d-69aa63e7b4ed",
   "metadata": {},
   "outputs": [],
   "source": [
    "manually_cleaned = \"\"\"\"\"\"  # insert the manually cleaned external reviewers here\n",
    "manually_cleaned = set(r.strip() for r in manually_cleaned.strip().split(\"\\n\"))\n",
    "final = manually_cleaned - reviewer_board\n",
    "print(\"\\n\".join(sorted(final)))"
   ]
  }
 ],
 "metadata": {
  "kernelspec": {
   "display_name": "Python 3 (ipykernel)",
   "language": "python",
   "name": "python3"
  },
  "language_info": {
   "codemirror_mode": {
    "name": "ipython",
    "version": 3
   },
   "file_extension": ".py",
   "mimetype": "text/x-python",
   "name": "python",
   "nbconvert_exporter": "python",
   "pygments_lexer": "ipython3",
   "version": "3.9.1"
  }
 },
 "nbformat": 4,
 "nbformat_minor": 5
}
